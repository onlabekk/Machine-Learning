{
 "cells": [
  {
   "cell_type": "code",
   "execution_count": 36,
   "metadata": {},
   "outputs": [],
   "source": [
    "import pandas as pd\n",
    "import numpy as np\n",
    "from collections import defaultdict\n",
    "from sklift.metrics import (\n",
    "    uplift_at_k, uplift_auc_score, qini_auc_score, weighted_average_uplift\n",
    ")\n",
    "import datetime\n",
    "from sklearn.model_selection import ParameterGrid\n",
    "from sklearn.model_selection import KFold"
   ]
  },
  {
   "cell_type": "code",
   "execution_count": 37,
   "metadata": {},
   "outputs": [],
   "source": [
    "from tree_uplift import Boosting"
   ]
  },
  {
   "cell_type": "code",
   "execution_count": 38,
   "metadata": {},
   "outputs": [],
   "source": [
    "from tree_uplift import UpliftTree"
   ]
  },
  {
   "cell_type": "code",
   "execution_count": 4,
   "metadata": {},
   "outputs": [],
   "source": [
    "df_x5 = pd.read_csv('retail_hero_final_model_train_data.csv', index_col='client_id')\n",
    "df_features, w, y = df_x5[['first_redeem_date', 'express_spent_mean',\n",
    "       'express_points_spent_sum', 'regular_points_received_sum_last_m',\n",
    "       'avg_spent_perday', 'after_redeem_sum_perday']], df_x5['treatment_flg'], df_x5['target']\n",
    "\n",
    "def x5_coding(x):\n",
    "    return int(str(int(x['treatment_flg']))+str(int(x['target'])), 2)\n",
    "\n",
    "df_x5['coding'] = df_x5.apply(x5_coding, axis=1)\n",
    "c = df_x5['coding']\n",
    "\n",
    "from sklearn.model_selection import train_test_split\n",
    "indices_learn, indices_valid = train_test_split(df_x5.index, test_size=0.3,random_state=0)\n",
    "X_train, w_train, y_train, c_train = df_features.loc[indices_learn].fillna(0), w.loc[indices_learn], y.loc[indices_learn], c.loc[indices_learn]\n",
    "X_valid, w_valid, y_valid, c_valid = df_features.loc[indices_valid].fillna(0), w.loc[indices_valid], y.loc[indices_valid], c.loc[indices_valid]"
   ]
  },
  {
   "cell_type": "code",
   "execution_count": 24,
   "metadata": {},
   "outputs": [],
   "source": [
    "random_state=4\n",
    "rng = np.random.RandomState(random_state)\n",
    "ada_boost = Boosting(n_estimators=50,\n",
    "         base_classifier=UpliftTree(max_depth=5, scoring='ED', min_samples_leaf=100, \n",
    "                                    min_samples_treatment=10, n_rand_features=5,random_state=0),\n",
    "         random_state=None)"
   ]
  },
  {
   "cell_type": "code",
   "execution_count": 35,
   "metadata": {},
   "outputs": [],
   "source": [
    "adaboost = Boosting(**params).fit(X_train.to_numpy().copy(), y_train, w_train)\n",
    "class_ = ada_boost.predict(X_valid)"
   ]
  },
  {
   "cell_type": "code",
   "execution_count": 96,
   "metadata": {},
   "outputs": [
    {
     "name": "stdout",
     "output_type": "stream",
     "text": [
      "Boosting:  0.000812790586958195 0.0011521789658458688 0.03695267609316616 0.03811788141016348\n"
     ]
    }
   ],
   "source": [
    "# Uplift at k best\n",
    "uplift_k = uplift_at_k(y_true=y_valid, uplift=class_, treatment=w_valid, strategy='overall', k=0.3)\n",
    "# Area Under Qini Curve\n",
    "tm_qini_auc = qini_auc_score(y_true=y_valid, uplift=class_, treatment=w_valid)\n",
    "\n",
    "# Area Under Uplift Curve\n",
    "tm_uplift_auc = uplift_auc_score(y_true=y_valid, uplift=class_, treatment=w_valid)\n",
    "\n",
    "# Weighted average uplift\n",
    "tm_wau = weighted_average_uplift(y_true=y_valid, uplift=class_,  treatment=w_valid)\n",
    "\n",
    "print(\"Boosting: \", tm_qini_auc, tm_uplift_auc, tm_wau, uplift_k)"
   ]
  },
  {
   "cell_type": "code",
   "execution_count": 97,
   "metadata": {},
   "outputs": [],
   "source": [
    "from sklearn.preprocessing import OneHotEncoder\n",
    "\n",
    "def kuusisto_coding(x):\n",
    "    return int(str(x['w'])+str(x['target']), 2)\n",
    "\n",
    "def kuusisto_preprocessing(df):\n",
    "    \n",
    "    df = df.drop(['customer_type'],axis=1)\n",
    "    df['target'] = df['outcome'].apply(lambda x: 1 if x=='positive' else 0)\n",
    "    df['w'] = df['target_control'].apply(lambda x: 1 if x=='target' else 0) \n",
    "    df['coding'] = df.apply(kuusisto_coding, axis=1)  \n",
    "    df = df.drop(['outcome','target_control'],axis=1)\n",
    "    \n",
    "    ohe = OneHotEncoder(sparse=False)\n",
    "    encoded_features = pd.DataFrame(ohe.fit_transform(df[['Node1','Node2','Node3','Node4',\n",
    "                                                          'Node5','Node6','Node7','Node8',\n",
    "                                                          'Node9','Node10','Node11','Node12',\n",
    "                                                          'Node13','Node14','Node15','Node17',\n",
    "                                                          'Node18','Node19','Node20']]))\n",
    "    \n",
    "    df = df.drop(['Node1','Node2','Node3','Node4','Node5','Node6','Node7',\n",
    "                  'Node8','Node9','Node10','Node11','Node12','Node13','Node14',\n",
    "                  'Node15','Node17','Node18','Node19','Node20'],axis=1)\n",
    "    \n",
    "    df = pd.concat([df,encoded_features],axis=1)\n",
    "    df = df.dropna()\n",
    "    c = df['coding']\n",
    "    y = df['target']\n",
    "    w = df['w']\n",
    "    X = df.drop(['target','w','coding'],axis=1)\n",
    "        \n",
    "    return X,y,w,c"
   ]
  },
  {
   "cell_type": "code",
   "execution_count": 98,
   "metadata": {},
   "outputs": [],
   "source": [
    "df = pd.read_csv('stereotypical_customer_simulation.csv',index_col='customer_id')\n",
    "X, y, w, c  = kuusisto_preprocessing(df)\n",
    "from sklearn.model_selection import train_test_split\n",
    "indices_learn, indices_valid = train_test_split(X.index, test_size=0.3,random_state=0)\n",
    "X_train, w_train, y_train, c_train = X.loc[indices_learn], w.loc[indices_learn], y.loc[indices_learn], c.loc[indices_learn]\n",
    "X_valid, w_valid, y_valid, c_valid = X.loc[indices_valid], w.loc[indices_valid], y.loc[indices_valid], c.loc[indices_valid]"
   ]
  },
  {
   "cell_type": "code",
   "execution_count": 99,
   "metadata": {},
   "outputs": [],
   "source": [
    "random_state=4\n",
    "rng = np.random.RandomState(random_state)\n",
    "ada_boost = Boosting(n_estimators=50,\n",
    "         base_classifier=UpliftTree(max_depth=5, scoring='Chi', min_samples_leaf=100, \n",
    "                                    min_samples_treatment=10, n_rand_features=20,rng=rng),\n",
    "         random_state=0)\n",
    "ada_boost.fit(X_train.to_numpy().astype(int), y_train, w_train)\n",
    "class_ = ada_boost.predict(X_valid.to_numpy().astype(int))"
   ]
  },
  {
   "cell_type": "code",
   "execution_count": 101,
   "metadata": {},
   "outputs": [
    {
     "name": "stdout",
     "output_type": "stream",
     "text": [
      "Boosting:  0.00035103711264467127 5.435472853509591e-06 0.024207523529786168 0.018346175326568792\n"
     ]
    }
   ],
   "source": [
    "# Uplift at k best\n",
    "uplift_k = uplift_at_k(y_true=y_valid, uplift=class_, treatment=w_valid, strategy='overall', k=0.3)\n",
    "# Area Under Qini Curve\n",
    "tm_qini_auc = qini_auc_score(y_true=y_valid, uplift=class_, treatment=w_valid)\n",
    "\n",
    "# Area Under Uplift Curve\n",
    "tm_uplift_auc = uplift_auc_score(y_true=y_valid, uplift=class_, treatment=w_valid)\n",
    "\n",
    "# Weighted average uplift\n",
    "tm_wau = weighted_average_uplift(y_true=y_valid, uplift=class_,  treatment=w_valid)\n",
    "\n",
    "print(\"Boosting: \", tm_qini_auc, tm_uplift_auc, tm_wau, uplift_k)"
   ]
  },
  {
   "cell_type": "code",
   "execution_count": 39,
   "metadata": {},
   "outputs": [],
   "source": [
    "from sklift.datasets import fetch_hillstrom\n",
    "from sklearn.preprocessing import OneHotEncoder\n",
    "def mine_coding(dataset):\n",
    "    return int(str(int(dataset['segment']))+str(int(dataset['visit'])), 2)\n",
    "\n",
    "def mine_preproccessing():  \n",
    "    bunch = fetch_hillstrom(target_col='visit')\n",
    "\n",
    "    dataset, target, treatment = bunch['data'], bunch['target'], bunch['treatment']\n",
    "\n",
    "    # Selecting two segments\n",
    "    dataset = dataset[treatment!='Mens E-Mail']\n",
    "    target = target[treatment!='Mens E-Mail']\n",
    "    treatment = treatment[treatment!='Mens E-Mail'].map({\n",
    "        'Womens E-Mail': 1,\n",
    "        'No E-Mail': 0\n",
    "    })\n",
    "    cat_cols = dataset.select_dtypes(include='object').columns.tolist()\n",
    "    ohe = OneHotEncoder(sparse=False)\n",
    "    encoded_features = pd.DataFrame(ohe.fit_transform(dataset[cat_cols]))\n",
    "\n",
    "    dataset = pd.concat([dataset,target,treatment],axis=1)\n",
    "    dataset = dataset.drop(cat_cols,axis=1)\n",
    "    dataset = pd.concat([dataset,encoded_features],axis=1)\n",
    "    dataset = dataset.dropna()\n",
    "\n",
    "    dataset['coding'] = dataset.apply(mine_coding, axis=1) \n",
    "\n",
    "    c = dataset['coding']\n",
    "    y = dataset['visit'].astype(int)\n",
    "    w = dataset['segment'].astype(int)\n",
    "    X = dataset.drop(['visit','segment','coding'],axis=1)\n",
    "\n",
    "    return X,y,w,c"
   ]
  },
  {
   "cell_type": "code",
   "execution_count": 40,
   "metadata": {},
   "outputs": [],
   "source": [
    "X_mine,y_mine,w_mine,c_mine = mine_preproccessing()\n",
    "X_mine[['mens',  'womens',  'newbie',         0,\n",
    "               1,         2,         3,         4,         5,         6,\n",
    "               7,         8,         9,        10,        11,        12]] = X_mine[['mens',  'womens',  'newbie',         0,\n",
    "               1,         2,         3,         4,         5,         6,\n",
    "               7,         8,         9,        10,        11,        12]].astype(int)"
   ]
  },
  {
   "cell_type": "code",
   "execution_count": 41,
   "metadata": {},
   "outputs": [],
   "source": [
    "indices_learn, indices_valid = train_test_split(X_mine.index, test_size=0.3)\n",
    "X_train, w_train, y_train, c_train = X_mine.loc[indices_learn], w_mine.loc[indices_learn], y_mine.loc[indices_learn], c_mine.loc[indices_learn]\n",
    "X_valid, w_valid, y_valid, c_valid = X_mine.loc[indices_valid], w_mine.loc[indices_valid], y_mine.loc[indices_valid], c_mine.loc[indices_valid]"
   ]
  },
  {
   "cell_type": "code",
   "execution_count": 43,
   "metadata": {},
   "outputs": [],
   "source": [
    "random_state=6\n",
    "rng = np.random.RandomState(random_state)\n",
    "ada_boost = Boosting(n_estimators=50,\n",
    "         base_classifier=UpliftTree(max_depth=5, scoring='ED', min_samples_leaf=100, \n",
    "                                    min_samples_treatment=10, n_rand_features=20, norm=False, rng=rng),\n",
    "         random_state=0)\n",
    "ada_boost.fit(X_train.to_numpy().astype(int), y_train, w_train)\n",
    "class_ = ada_boost.predict(X_valid.to_numpy().astype(int))"
   ]
  },
  {
   "cell_type": "code",
   "execution_count": 59,
   "metadata": {},
   "outputs": [
    {
     "name": "stdout",
     "output_type": "stream",
     "text": [
      "Boosting:  0.020286239920493734 0.009853374826839702 0.04833342223387788 0.052080696664654674\n"
     ]
    }
   ],
   "source": [
    "# Uplift at k best\n",
    "uplift_k = uplift_at_k(y_true=y_valid, uplift=class_, treatment=w_valid, strategy='overall', k=0.3)\n",
    "# Area Under Qini Curve\n",
    "tm_qini_auc = qini_auc_score(y_true=y_valid, uplift=class_, treatment=w_valid)\n",
    "\n",
    "# Area Under Uplift Curve\n",
    "tm_uplift_auc = uplift_auc_score(y_true=y_valid, uplift=class_, treatment=w_valid)\n",
    "\n",
    "# Weighted average uplift\n",
    "tm_wau = weighted_average_uplift(y_true=y_valid, uplift=class_,  treatment=w_valid)\n",
    "\n",
    "print(\"Boosting: \", tm_qini_auc, tm_uplift_auc, tm_wau, uplift_k)"
   ]
  },
  {
   "cell_type": "code",
   "execution_count": null,
   "metadata": {},
   "outputs": [],
   "source": []
  },
  {
   "cell_type": "code",
   "execution_count": null,
   "metadata": {},
   "outputs": [],
   "source": []
  }
 ],
 "metadata": {
  "kernelspec": {
   "display_name": "Python 3",
   "language": "python",
   "name": "python3"
  },
  "language_info": {
   "codemirror_mode": {
    "name": "ipython",
    "version": 3
   },
   "file_extension": ".py",
   "mimetype": "text/x-python",
   "name": "python",
   "nbconvert_exporter": "python",
   "pygments_lexer": "ipython3",
   "version": "3.7.4"
  }
 },
 "nbformat": 4,
 "nbformat_minor": 2
}
