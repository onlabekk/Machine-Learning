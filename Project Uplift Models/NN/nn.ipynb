{
  "nbformat": 4,
  "nbformat_minor": 0,
  "metadata": {
    "colab": {
      "name": "smite.ipynb",
      "provenance": [],
      "collapsed_sections": []
    },
    "kernelspec": {
      "name": "python3",
      "display_name": "Python 3"
    },
    "language_info": {
      "name": "python"
    },
    "accelerator": "GPU",
    "widgets": {
      "application/vnd.jupyter.widget-state+json": {
        "158ab14c54b24a76bc0576e719405d3b": {
          "model_module": "@jupyter-widgets/controls",
          "model_name": "HBoxModel",
          "state": {
            "_view_name": "HBoxView",
            "_dom_classes": [],
            "_model_name": "HBoxModel",
            "_view_module": "@jupyter-widgets/controls",
            "_model_module_version": "1.5.0",
            "_view_count": null,
            "_view_module_version": "1.5.0",
            "box_style": "",
            "layout": "IPY_MODEL_b4e1aabb22b6422cb99f55438af98b0a",
            "_model_module": "@jupyter-widgets/controls",
            "children": [
              "IPY_MODEL_9dd98cd53b5242beb0f45732388a8f7c",
              "IPY_MODEL_a57189bc2ec84155a1e2d60508bfa793"
            ]
          }
        },
        "b4e1aabb22b6422cb99f55438af98b0a": {
          "model_module": "@jupyter-widgets/base",
          "model_name": "LayoutModel",
          "state": {
            "_view_name": "LayoutView",
            "grid_template_rows": null,
            "right": null,
            "justify_content": null,
            "_view_module": "@jupyter-widgets/base",
            "overflow": null,
            "_model_module_version": "1.2.0",
            "_view_count": null,
            "flex_flow": null,
            "width": null,
            "min_width": null,
            "border": null,
            "align_items": null,
            "bottom": null,
            "_model_module": "@jupyter-widgets/base",
            "top": null,
            "grid_column": null,
            "overflow_y": null,
            "overflow_x": null,
            "grid_auto_flow": null,
            "grid_area": null,
            "grid_template_columns": null,
            "flex": null,
            "_model_name": "LayoutModel",
            "justify_items": null,
            "grid_row": null,
            "max_height": null,
            "align_content": null,
            "visibility": null,
            "align_self": null,
            "height": null,
            "min_height": null,
            "padding": null,
            "grid_auto_rows": null,
            "grid_gap": null,
            "max_width": null,
            "order": null,
            "_view_module_version": "1.2.0",
            "grid_template_areas": null,
            "object_position": null,
            "object_fit": null,
            "grid_auto_columns": null,
            "margin": null,
            "display": null,
            "left": null
          }
        },
        "9dd98cd53b5242beb0f45732388a8f7c": {
          "model_module": "@jupyter-widgets/controls",
          "model_name": "FloatProgressModel",
          "state": {
            "_view_name": "ProgressView",
            "style": "IPY_MODEL_6411ff7d63324ecfa1622f99f9eace8a",
            "_dom_classes": [],
            "description": "100%",
            "_model_name": "FloatProgressModel",
            "bar_style": "success",
            "max": 41,
            "_view_module": "@jupyter-widgets/controls",
            "_model_module_version": "1.5.0",
            "value": 41,
            "_view_count": null,
            "_view_module_version": "1.5.0",
            "orientation": "horizontal",
            "min": 0,
            "description_tooltip": null,
            "_model_module": "@jupyter-widgets/controls",
            "layout": "IPY_MODEL_3253cc971f4d4214b9020b157a8695bd"
          }
        },
        "a57189bc2ec84155a1e2d60508bfa793": {
          "model_module": "@jupyter-widgets/controls",
          "model_name": "HTMLModel",
          "state": {
            "_view_name": "HTMLView",
            "style": "IPY_MODEL_35779368d9834b3d8a2f1e24d3e7d01e",
            "_dom_classes": [],
            "description": "",
            "_model_name": "HTMLModel",
            "placeholder": "​",
            "_view_module": "@jupyter-widgets/controls",
            "_model_module_version": "1.5.0",
            "value": " 41/41 [06:28&lt;00:00,  9.47s/it]",
            "_view_count": null,
            "_view_module_version": "1.5.0",
            "description_tooltip": null,
            "_model_module": "@jupyter-widgets/controls",
            "layout": "IPY_MODEL_d4ab828071ef46d680022d882c4369d1"
          }
        },
        "6411ff7d63324ecfa1622f99f9eace8a": {
          "model_module": "@jupyter-widgets/controls",
          "model_name": "ProgressStyleModel",
          "state": {
            "_view_name": "StyleView",
            "_model_name": "ProgressStyleModel",
            "description_width": "initial",
            "_view_module": "@jupyter-widgets/base",
            "_model_module_version": "1.5.0",
            "_view_count": null,
            "_view_module_version": "1.2.0",
            "bar_color": null,
            "_model_module": "@jupyter-widgets/controls"
          }
        },
        "3253cc971f4d4214b9020b157a8695bd": {
          "model_module": "@jupyter-widgets/base",
          "model_name": "LayoutModel",
          "state": {
            "_view_name": "LayoutView",
            "grid_template_rows": null,
            "right": null,
            "justify_content": null,
            "_view_module": "@jupyter-widgets/base",
            "overflow": null,
            "_model_module_version": "1.2.0",
            "_view_count": null,
            "flex_flow": null,
            "width": null,
            "min_width": null,
            "border": null,
            "align_items": null,
            "bottom": null,
            "_model_module": "@jupyter-widgets/base",
            "top": null,
            "grid_column": null,
            "overflow_y": null,
            "overflow_x": null,
            "grid_auto_flow": null,
            "grid_area": null,
            "grid_template_columns": null,
            "flex": null,
            "_model_name": "LayoutModel",
            "justify_items": null,
            "grid_row": null,
            "max_height": null,
            "align_content": null,
            "visibility": null,
            "align_self": null,
            "height": null,
            "min_height": null,
            "padding": null,
            "grid_auto_rows": null,
            "grid_gap": null,
            "max_width": null,
            "order": null,
            "_view_module_version": "1.2.0",
            "grid_template_areas": null,
            "object_position": null,
            "object_fit": null,
            "grid_auto_columns": null,
            "margin": null,
            "display": null,
            "left": null
          }
        },
        "35779368d9834b3d8a2f1e24d3e7d01e": {
          "model_module": "@jupyter-widgets/controls",
          "model_name": "DescriptionStyleModel",
          "state": {
            "_view_name": "StyleView",
            "_model_name": "DescriptionStyleModel",
            "description_width": "",
            "_view_module": "@jupyter-widgets/base",
            "_model_module_version": "1.5.0",
            "_view_count": null,
            "_view_module_version": "1.2.0",
            "_model_module": "@jupyter-widgets/controls"
          }
        },
        "d4ab828071ef46d680022d882c4369d1": {
          "model_module": "@jupyter-widgets/base",
          "model_name": "LayoutModel",
          "state": {
            "_view_name": "LayoutView",
            "grid_template_rows": null,
            "right": null,
            "justify_content": null,
            "_view_module": "@jupyter-widgets/base",
            "overflow": null,
            "_model_module_version": "1.2.0",
            "_view_count": null,
            "flex_flow": null,
            "width": null,
            "min_width": null,
            "border": null,
            "align_items": null,
            "bottom": null,
            "_model_module": "@jupyter-widgets/base",
            "top": null,
            "grid_column": null,
            "overflow_y": null,
            "overflow_x": null,
            "grid_auto_flow": null,
            "grid_area": null,
            "grid_template_columns": null,
            "flex": null,
            "_model_name": "LayoutModel",
            "justify_items": null,
            "grid_row": null,
            "max_height": null,
            "align_content": null,
            "visibility": null,
            "align_self": null,
            "height": null,
            "min_height": null,
            "padding": null,
            "grid_auto_rows": null,
            "grid_gap": null,
            "max_width": null,
            "order": null,
            "_view_module_version": "1.2.0",
            "grid_template_areas": null,
            "object_position": null,
            "object_fit": null,
            "grid_auto_columns": null,
            "margin": null,
            "display": null,
            "left": null
          }
        }
      }
    }
  },
  "cells": [
    {
      "cell_type": "markdown",
      "metadata": {
        "id": "0uJo2XQgqF2P"
      },
      "source": [
        "## Data download and modules installation"
      ]
    },
    {
      "cell_type": "code",
      "metadata": {
        "id": "3KDPj0Y8Gmdu"
      },
      "source": [
        "!wget -nc https://storage.yandexcloud.net/datasouls-ods/materials/9c6913e5/retailhero-uplift.zip\n",
        "!unzip -n retailhero-uplift.zip\n",
        "\n",
        "!pip install causalml -q\n",
        "!pip install scikit-uplift -q"
      ],
      "execution_count": null,
      "outputs": []
    },
    {
      "cell_type": "code",
      "metadata": {
        "id": "TlthY5jmGrVK"
      },
      "source": [
        "import numpy as np\n",
        "import pandas as pd\n",
        "import matplotlib.pyplot as plt\n",
        "from copy import deepcopy\n",
        "from IPython.display import display, clear_output\n",
        "\n",
        "from sklearn.model_selection import train_test_split\n",
        "from sklearn.preprocessing import MinMaxScaler\n",
        "\n",
        "from sklift.metrics import (\n",
        "    uplift_at_k, uplift_auc_score, qini_auc_score, weighted_average_uplift\n",
        ")\n",
        "from sklift.viz import plot_qini_curve\n",
        "from sklift.viz import plot_uplift_curve\n",
        "\n",
        "import torch\n",
        "import torch.nn as nn\n",
        "from torch.utils.data import Dataset, DataLoader\n",
        "torch.manual_seed(0)\n",
        "\n",
        "from tqdm.notebook import tqdm as tqdm_notebook"
      ],
      "execution_count": null,
      "outputs": []
    },
    {
      "cell_type": "markdown",
      "metadata": {
        "id": "y6EcppzAqUKc"
      },
      "source": [
        "## Data preprocessing"
      ]
    },
    {
      "cell_type": "code",
      "metadata": {
        "id": "nhTkZO22HGbB"
      },
      "source": [
        "def x5_coding(x):\n",
        "    return int(str(x['treatment_flg'])+str(x['target']), 2)\n",
        "\n",
        "def x5_preprocessing(df_clients, df_train):\n",
        "    df_clients['first_issue_unixtime'] = pd.to_datetime(df_clients['first_issue_date']).astype(int)/10**9\n",
        "    # NaT imputation\n",
        "    min_redeem_date = pd.to_datetime(df_clients[\"first_redeem_date\"]).min()\n",
        "    df_clients['first_redeem_unixtime'] = pd.to_datetime(df_clients[\"first_redeem_date\"]).fillna(min_redeem_date).astype(int)/10**9\n",
        "    df_features = pd.DataFrame({\n",
        "    'gender_M': (df_clients['gender'] == 'M').astype(int),\n",
        "    'gender_F': (df_clients['gender'] == 'F').astype(int),\n",
        "    'gender_U': (df_clients['gender'] == 'U').astype(int),\n",
        "    'age': df_clients['age'],\n",
        "    'first_issue_time': df_clients['first_issue_unixtime'],\n",
        "    'first_redeem_time': df_clients['first_redeem_unixtime'],\n",
        "    'issue_redeem_delay': df_clients['first_redeem_unixtime'] - df_clients['first_issue_unixtime'],\n",
        "    }).fillna(0)\n",
        "    df_train['coding'] = df_train.apply(x5_coding, axis=1)\n",
        "    w = df_train['treatment_flg']\n",
        "    y = df_train['target']\n",
        "    c = df_train['coding']\n",
        "    return df_features, w, y, c"
      ],
      "execution_count": null,
      "outputs": []
    },
    {
      "cell_type": "code",
      "metadata": {
        "id": "itDmuni2HL4x"
      },
      "source": [
        "df_clients = pd.read_csv('data/clients.csv', index_col='client_id')\n",
        "df_train = pd.read_csv('data/uplift_train.csv', index_col='client_id')\n",
        "df_features, w, y, c = x5_preprocessing(df_clients, df_train)\n",
        "\n",
        "indices_learn, indices_valid = train_test_split(df_train.index, test_size=0.3)\n",
        "X_train, w_train, y_train, c_train = df_features.loc[indices_learn], w.loc[indices_learn], y.loc[indices_learn], c.loc[indices_learn]\n",
        "X_valid, w_valid, y_valid, c_valid = df_features.loc[indices_valid], w.loc[indices_valid], y.loc[indices_valid], c.loc[indices_valid]"
      ],
      "execution_count": null,
      "outputs": []
    },
    {
      "cell_type": "markdown",
      "metadata": {
        "id": "IfERrGPnVYVR"
      },
      "source": [
        "## Target transformation\n",
        "$$\n",
        "z_i = \\begin{cases}\n",
        "2, & \\text{if $w_i = 1$, $y_i=1$} \\\\\n",
        "-2, & \\text{if $w_i = 0$, $y_i=1$}  \\\\\n",
        "0 & \\text{otherwise}\n",
        "\\end{cases}\n",
        "$$"
      ]
    },
    {
      "cell_type": "code",
      "metadata": {
        "id": "Xzen7SrsHR_T"
      },
      "source": [
        "def get_z(x):\n",
        "    if x[\"treatment_flg\"] == 1 and x[\"target\"] == 1:\n",
        "        return 2\n",
        "    if x[\"treatment_flg\"] == 0 and x[\"target\"] == 1:\n",
        "        return -2\n",
        "    return 0\n",
        "\n",
        "z_train = pd.concat((w_train, y_train), axis=1).apply(get_z, axis=1)\n",
        "z_valid = pd.concat((w_valid, y_valid), axis=1).apply(get_z, axis=1)"
      ],
      "execution_count": null,
      "outputs": []
    },
    {
      "cell_type": "markdown",
      "metadata": {
        "id": "kNcq-CFFWf79"
      },
      "source": [
        "<!-- * Модель $\\mu(\\tilde{X})$, $\\tilde{X} = \\left(X \\mid w\\right)$ -->\n",
        "* Model $\\mu$ takes as input client feature vector concatenated with treatment flag\n",
        "* Predicted value is $\\hat{y}_i =\n",
        "\\begin{cases}\n",
        "\\mu(x_i), & \\text{если $w_i = 1$}\\\\\n",
        "-\\mu(x_i), & \\text{если $w_i = 0$}\n",
        "\\end{cases}\n",
        "$\n",
        "* $\\text{Loss} = \\text{MSE}(\\hat{y}, y)$"
      ]
    },
    {
      "cell_type": "markdown",
      "metadata": {
        "id": "uPgUgUymaiQA"
      },
      "source": [
        "## Loss definition"
      ]
    },
    {
      "cell_type": "code",
      "metadata": {
        "id": "07Q0l4UWWs9L"
      },
      "source": [
        "def uplift_loss(y_true, y_pred, w):\n",
        "    mask_t = w == 1\n",
        "    mask_c = w == 0\n",
        "    y_pred_cp = y_pred.clone()\n",
        "    y_pred_cp[mask_c] = -y_pred_cp[mask_c]\n",
        "    loss = criterion(y_pred_cp, y_true)\n",
        "    return loss"
      ],
      "execution_count": null,
      "outputs": []
    },
    {
      "cell_type": "markdown",
      "metadata": {
        "id": "-35VAptJWLtP"
      },
      "source": [
        "## Dataset construction"
      ]
    },
    {
      "cell_type": "code",
      "metadata": {
        "id": "SU0X4Rg9a8_f"
      },
      "source": [
        "class X5_data(Dataset):\n",
        "    def __init__(self, X, w, z=None, y=None, valid=False):\n",
        "        super(X5_data, self).__init__()\n",
        "        assert X.shape[0] == w.shape[0]\n",
        "        # assert X.shape[0] == z.shape[0]\n",
        "        X = np.asarray(X)\n",
        "        w = np.asarray(w)\n",
        "        z = np.asarray(z)\n",
        "        X = np.hstack((X, w.reshape(-1, 1)))   # concatenate features with treatment flag\n",
        "        self.X = torch.tensor(X, dtype=torch.float32)\n",
        "        self.w = torch.tensor(w, dtype=torch.int32)\n",
        "        self.valid = valid\n",
        "        self.z = torch.tensor(z, dtype=torch.float32)\n",
        "        if self.valid == True:\n",
        "            self.y = torch.tensor(y, dtype=torch.int32)\n",
        "\n",
        "    def __len__(self):\n",
        "        return self.X.shape[0]\n",
        "\n",
        "    def __getitem__(self, idx):\n",
        "        if self.valid == False:\n",
        "            return self.X[idx], self.w[idx], self.z[idx]\n",
        "        return self.X[idx], self.w[idx], self.y[idx], self.z[idx]\n",
        "        "
      ],
      "execution_count": null,
      "outputs": []
    },
    {
      "cell_type": "code",
      "metadata": {
        "id": "IYIbjPpoczOF"
      },
      "source": [
        "X_train_sc = MinMaxScaler().fit_transform(X_train)\n",
        "X_valid_sc = MinMaxScaler().fit_transform(X_valid)\n",
        "\n",
        "train_ds = X5_data(X_train_sc, w_train, z=z_train, valid=False)\n",
        "valid_ds = X5_data(X_valid_sc, w_valid, y=y_valid, z=z_valid, valid=True)\n",
        "\n",
        "train_loader = DataLoader(train_ds, batch_size=50, shuffle=True) \n",
        "valid_loader = DataLoader(valid_ds, batch_size=len(valid_ds), shuffle=False) "
      ],
      "execution_count": null,
      "outputs": []
    },
    {
      "cell_type": "code",
      "metadata": {
        "id": "gQOz95P7hNz3"
      },
      "source": [
        "class SmiteModel(nn.Module):\n",
        "    def __init__(self, in_size):\n",
        "        super(SmiteModel, self).__init__()\n",
        "        self.net = nn.Sequential(\n",
        "            nn.Linear(in_size, 200),\n",
        "            nn.LeakyReLU(inplace=True),\n",
        "            nn.Linear(200, 300),\n",
        "            nn.LeakyReLU(inplace=True),\n",
        "            nn.Linear(300, 100),\n",
        "            nn.LeakyReLU(inplace=True),\n",
        "            nn.Linear(100, 50),\n",
        "            nn.LeakyReLU(inplace=True),\n",
        "            nn.Linear(50, 10),\n",
        "            nn.LeakyReLU(inplace=True),\n",
        "        )\n",
        "        self.last = nn.Linear(10, 1)\n",
        "    def forward(self, x):\n",
        "        out = self.last(self.net(x))\n",
        "        return out"
      ],
      "execution_count": null,
      "outputs": []
    },
    {
      "cell_type": "code",
      "metadata": {
        "id": "CAky98A3jxg_"
      },
      "source": [
        "model = SmiteModel(X_train.shape[1] + 1)\n",
        "criterion = nn.MSELoss()\n",
        "optimizer = torch.optim.Adam(model.parameters(), lr=1e-2)"
      ],
      "execution_count": null,
      "outputs": []
    },
    {
      "cell_type": "code",
      "metadata": {
        "colab": {
          "base_uri": "https://localhost:8080/",
          "height": 890,
          "referenced_widgets": [
            "158ab14c54b24a76bc0576e719405d3b",
            "b4e1aabb22b6422cb99f55438af98b0a",
            "9dd98cd53b5242beb0f45732388a8f7c",
            "a57189bc2ec84155a1e2d60508bfa793",
            "6411ff7d63324ecfa1622f99f9eace8a",
            "3253cc971f4d4214b9020b157a8695bd",
            "35779368d9834b3d8a2f1e24d3e7d01e",
            "d4ab828071ef46d680022d882c4369d1"
          ]
        },
        "id": "5xH_vbhFYRNx",
        "outputId": "a627300c-eac0-4a48-f8c2-434a4d123101"
      },
      "source": [
        "N_epochs = 41\n",
        "train_loss = []\n",
        "valid_loss = []\n",
        "metrics = np.zeros((N_epochs, 2))\n",
        "device = torch.device(\"cuda:0\" if torch.cuda.is_available() else \"cpu\")\n",
        "model = model.to(device)\n",
        "\n",
        "for epoch in tqdm_notebook(range(N_epochs)):\n",
        "    model.train()\n",
        "    losses = []\n",
        "    for X, w, z in train_loader:\n",
        "        X = X.to(device)\n",
        "        z = z.to(device)\n",
        "        out = model(X)\n",
        "        optimizer.zero_grad()\n",
        "        loss = uplift_loss(z, out.ravel(), w)\n",
        "        loss.backward()\n",
        "        optimizer.step()\n",
        "        losses.append(loss.item())\n",
        "    train_loss.append(np.mean(losses))\n",
        "\n",
        "    model.eval()\n",
        "    losses = []\n",
        "    qini_aucs, uplift_aucs, wau_aucs = [], [], []\n",
        "    for X, w, y, z in valid_loader:\n",
        "        X = X.to(device)\n",
        "        z = z.to(device)\n",
        "        mask_t = w == 1\n",
        "        mask_c = w == 0\n",
        "        out = model(X)\n",
        "        loss = uplift_loss(z, out.ravel(), w)\n",
        "        losses.append(loss.item())\n",
        "\n",
        "        pred_val = out.cpu().detach().numpy().ravel()\n",
        "        qini_auc = qini_auc_score(y_true=y.numpy().ravel(), uplift=pred_val, treatment=w.numpy().ravel())\n",
        "        qini_aucs.append(qini_auc)\n",
        "        uplift_auc = uplift_auc_score(y_true=y.numpy().ravel(), uplift=pred_val, treatment=w.numpy().ravel())\n",
        "        uplift_aucs.append(uplift_auc)\n",
        "        # wau_auc = weighted_average_uplift(y_true=y.numpy().ravel(), uplift=pred_val, treatment=w.numpy().ravel())\n",
        "        # wau_aucs.append(wau_auc)\n",
        "    metrics[epoch] = np.mean(qini_aucs), np.mean(uplift_aucs)#, np.mean(wau_aucs)\n",
        "\n",
        "    valid_loss.append(np.mean(losses))\n",
        "    if epoch % 10 == 0:\n",
        "        clear_output()\n",
        "        print(f\"Epoch {epoch}/{N_epochs}\\nLoss: train {train_loss[-1]:.4f} valid {valid_loss[-1]:.4f}\\nMetrics: {np.array2string(metrics[epoch], precision=4)[1:-1]}\")\n",
        "        plot_qini_curve(y_true=y.cpu().detach().numpy().ravel(), uplift=pred_val, treatment=w.cpu().detach().numpy().ravel(), perfect=False)\n",
        "        plot_uplift_curve(y_true=y.cpu().detach().numpy().ravel(), uplift=pred_val, treatment=w.cpu().detach().numpy().ravel(), perfect=False)\n",
        "        plt.plot(metrics[:epoch,0])\n",
        "        plt.show()"
      ],
      "execution_count": null,
      "outputs": [
        {
          "output_type": "stream",
          "text": [
            "Epoch 40/41\n",
            "Loss: train 0.9627 valid 1.0002\n",
            "Metrics:  0.0078 -0.0031\n"
          ],
          "name": "stdout"
        },
        {
          "output_type": "display_data",
          "data": {
            "image/png": "[encoded data removed]",
            "text/plain": [
              "<Figure size 576x432 with 1 Axes>"
            ]
          },
          "metadata": {
            "tags": [],
            "needs_background": "light"
          }
        },
        {
          "output_type": "display_data",
          "data": {
            "image/png": "[encoded data removed]",
            "text/plain": [
              "<Figure size 576x432 with 1 Axes>"
            ]
          },
          "metadata": {
            "tags": [],
            "needs_background": "light"
          }
        },
        {
          "output_type": "stream",
          "text": [
            "\n"
          ],
          "name": "stdout"
        }
      ]
    },
    {
      "cell_type": "code",
      "metadata": {
        "id": "dmYxIh9MWtnB"
      },
      "source": [
        "# torch.save(model.state_dict(), \"/content/drive/MyDrive/ML2021_project/model.pth\")"
      ],
      "execution_count": null,
      "outputs": []
    },
    {
      "cell_type": "code",
      "metadata": {
        "id": "BJGbl6qUgCp5"
      },
      "source": [
        "X_tilde = np.hstack((X_valid_sc, w_valid.values.reshape(-1, 1)))\n",
        "X_tilde = torch.tensor(X_tilde, dtype=torch.float32).to(device)\n",
        "y_pred_valid = model(X_tilde)\n",
        "y_pred_valid = y_pred_valid.cpu().detach().numpy().ravel()"
      ],
      "execution_count": null,
      "outputs": []
    },
    {
      "cell_type": "markdown",
      "metadata": {
        "id": "ZooWrMRNqrcG"
      },
      "source": [
        "## Final validation metrics"
      ]
    },
    {
      "cell_type": "code",
      "metadata": {
        "colab": {
          "base_uri": "https://localhost:8080/"
        },
        "id": "1hJSXut6weFB",
        "outputId": "987ae37f-c252-4de3-b023-3e85a467710f"
      },
      "source": [
        "qini_auc_score(y_true=y_valid, uplift=y_pred_valid, treatment=w_valid)"
      ],
      "execution_count": null,
      "outputs": [
        {
          "output_type": "execute_result",
          "data": {
            "text/plain": [
              "0.00776011382458551"
            ]
          },
          "metadata": {
            "tags": []
          },
          "execution_count": 30
        }
      ]
    },
    {
      "cell_type": "code",
      "metadata": {
        "colab": {
          "base_uri": "https://localhost:8080/",
          "height": 838
        },
        "id": "TBbHQL17h91P",
        "outputId": "67e7ea0b-0c26-4391-8fc3-ff12bfce2260"
      },
      "source": [
        "plot_qini_curve(y_true=y_valid, uplift=y_pred_valid, treatment=w_valid, perfect=False)\n",
        "plot_uplift_curve(y_true=y_valid, uplift=y_pred_valid, treatment=w_valid, perfect=False)"
      ],
      "execution_count": null,
      "outputs": [
        {
          "output_type": "execute_result",
          "data": {
            "text/plain": [
              "<matplotlib.axes._subplots.AxesSubplot at 0x7f7f024a6350>"
            ]
          },
          "metadata": {
            "tags": []
          },
          "execution_count": 31
        },
        {
          "output_type": "display_data",
          "data": {
            "image/png": "[encoded data removed]",
            "text/plain": [
              "<Figure size 576x432 with 1 Axes>"
            ]
          },
          "metadata": {
            "tags": [],
            "needs_background": "light"
          }
        },
        {
          "output_type": "display_data",
          "data": {
            "image/png": "[encoded data removed]",
            "text/plain": [
              "<Figure size 576x432 with 1 Axes>"
            ]
          },
          "metadata": {
            "tags": [],
            "needs_background": "light"
          }
        }
      ]
    },
    {
      "cell_type": "code",
      "metadata": {
        "id": "ZMNmTOyAcghk"
      },
      "source": [
        ""
      ],
      "execution_count": null,
      "outputs": []
    }
  ]
}